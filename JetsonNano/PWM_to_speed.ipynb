{
 "cells": [
  {
   "cell_type": "code",
   "execution_count": 1,
   "metadata": {},
   "outputs": [],
   "source": [
    "import numpy as np\n",
    "import matplotlib.pyplot as plt"
   ]
  },
  {
   "cell_type": "code",
   "execution_count": 2,
   "metadata": {},
   "outputs": [],
   "source": [
    "data = np.genfromtxt('PWM_to_speed.csv', delimiter=',', names=True)"
   ]
  },
  {
   "cell_type": "code",
   "execution_count": 3,
   "metadata": {},
   "outputs": [
    {
     "data": {
      "text/plain": [
       "array([(0.15,  3.4), (0.2 ,  5.5), (0.25,  7.5), (0.3 ,  9.5),\n",
       "       (0.35, 11.4), (0.4 , 13.4), (0.45, 15.4), (0.5 , 17.1),\n",
       "       (0.55, 18.6), (0.6 , 21. ), (0.65, 22.4), (0.7 , 24. ),\n",
       "       (0.75, 26. ), (0.8 , 27.4), (0.85, 29.3), (0.9 , 30. ),\n",
       "       (0.95, 30.6), (1.  , 31.6)],\n",
       "      dtype=[('PWM', '<f8'), ('speed', '<f8')])"
      ]
     },
     "execution_count": 3,
     "metadata": {},
     "output_type": "execute_result"
    }
   ],
   "source": [
    "data"
   ]
  },
  {
   "cell_type": "code",
   "execution_count": 4,
   "metadata": {},
   "outputs": [
    {
     "data": {
      "image/png": "[encoded data removed]",
      "text/plain": [
       "<Figure size 432x288 with 1 Axes>"
      ]
     },
     "metadata": {
      "needs_background": "light"
     },
     "output_type": "display_data"
    }
   ],
   "source": [
    "fig = plt.figure()\n",
    "ax1 = fig.add_subplot(111)\n",
    "ax1.set_title(\"mapping PWM([0,1.0]) to speed(cm/s)\")    \n",
    "ax1.set_xlabel('PWM')\n",
    "ax1.set_ylabel('speed')\n",
    "ax1.plot(data['PWM'], data['speed'], c='r', label='the data')\n",
    "leg = ax1.legend()\n",
    "plt.show()"
   ]
  },
  {
   "cell_type": "code",
   "execution_count": 10,
   "metadata": {},
   "outputs": [
    {
     "name": "stdout",
     "output_type": "stream",
     "text": [
      "34.25593395252837 -0.5804953560371476\n"
     ]
    }
   ],
   "source": [
    "slope, intercept = np.polyfit(data['PWM'], data['speed'], 1)\n",
    "print(slope, intercept)"
   ]
  },
  {
   "cell_type": "code",
   "execution_count": 11,
   "metadata": {},
   "outputs": [],
   "source": [
    "def PWM_to_speed(PWM):\n",
    "    slope = 34.25593395252837\n",
    "    intercept = -0.5804953560371476\n",
    "    y = PWM * slope + intercept\n",
    "    return y"
   ]
  },
  {
   "cell_type": "code",
   "execution_count": 12,
   "metadata": {},
   "outputs": [
    {
     "name": "stdout",
     "output_type": "stream",
     "text": [
      "18.26026831785346\n"
     ]
    }
   ],
   "source": [
    "print(PWM_to_speed(0.55))"
   ]
  },
  {
   "cell_type": "code",
   "execution_count": 29,
   "metadata": {},
   "outputs": [
    {
     "data": {
      "text/plain": [
       "0.2"
      ]
     },
     "execution_count": 29,
     "metadata": {},
     "output_type": "execute_result"
    }
   ],
   "source": [
    "data[1][0]"
   ]
  },
  {
   "cell_type": "code",
   "execution_count": 33,
   "metadata": {},
   "outputs": [],
   "source": [
    "length = data.shape[0]\n",
    "result = np.zeros((length, 2))\n",
    "for i in range(length):\n",
    "    result[i][0] = data[i][0]\n",
    "    result[i][1] = PWM_to_speed(data[i][0])"
   ]
  },
  {
   "cell_type": "code",
   "execution_count": 34,
   "metadata": {},
   "outputs": [
    {
     "data": {
      "text/plain": [
       "array([[ 0.15      ,  4.55789474],\n",
       "       [ 0.2       ,  6.27069143],\n",
       "       [ 0.25      ,  7.98348813],\n",
       "       [ 0.3       ,  9.69628483],\n",
       "       [ 0.35      , 11.40908153],\n",
       "       [ 0.4       , 13.12187822],\n",
       "       [ 0.45      , 14.83467492],\n",
       "       [ 0.5       , 16.54747162],\n",
       "       [ 0.55      , 18.26026832],\n",
       "       [ 0.6       , 19.97306502],\n",
       "       [ 0.65      , 21.68586171],\n",
       "       [ 0.7       , 23.39865841],\n",
       "       [ 0.75      , 25.11145511],\n",
       "       [ 0.8       , 26.82425181],\n",
       "       [ 0.85      , 28.5370485 ],\n",
       "       [ 0.9       , 30.2498452 ],\n",
       "       [ 0.95      , 31.9626419 ],\n",
       "       [ 1.        , 33.6754386 ]])"
      ]
     },
     "execution_count": 34,
     "metadata": {},
     "output_type": "execute_result"
    }
   ],
   "source": [
    "result"
   ]
  },
  {
   "cell_type": "code",
   "execution_count": 35,
   "metadata": {},
   "outputs": [
    {
     "data": {
      "text/plain": [
       "array([(0.15,  3.4), (0.2 ,  5.5), (0.25,  7.5), (0.3 ,  9.5),\n",
       "       (0.35, 11.4), (0.4 , 13.4), (0.45, 15.4), (0.5 , 17.1),\n",
       "       (0.55, 18.6), (0.6 , 21. ), (0.65, 22.4), (0.7 , 24. ),\n",
       "       (0.75, 26. ), (0.8 , 27.4), (0.85, 29.3), (0.9 , 30. ),\n",
       "       (0.95, 30.6), (1.  , 31.6)],\n",
       "      dtype=[('PWM', '<f8'), ('speed', '<f8')])"
      ]
     },
     "execution_count": 35,
     "metadata": {},
     "output_type": "execute_result"
    }
   ],
   "source": [
    "data"
   ]
  },
  {
   "cell_type": "code",
   "execution_count": 14,
   "metadata": {},
   "outputs": [
    {
     "name": "stdout",
     "output_type": "stream",
     "text": [
      "0.02892985508054761 0.02195760371019853\n"
     ]
    }
   ],
   "source": [
    "slope2, intercept2 = np.polyfit(data['speed'], data['PWM'], 1)\n",
    "print(slope2, intercept2)"
   ]
  },
  {
   "cell_type": "code",
   "execution_count": 36,
   "metadata": {},
   "outputs": [],
   "source": [
    "def speed_to_PWM(speed):\n",
    "    slope = 0.0305\n",
    "    intercept = 0.02195760371019853\n",
    "    y = speed * slope + intercept\n",
    "    return y"
   ]
  },
  {
   "cell_type": "code",
   "execution_count": 39,
   "metadata": {},
   "outputs": [
    {
     "name": "stdout",
     "output_type": "stream",
     "text": [
      "0.18970760371019854\n"
     ]
    }
   ],
   "source": [
    "print(speed_to_PWM(5.5))"
   ]
  },
  {
   "cell_type": "code",
   "execution_count": 53,
   "metadata": {},
   "outputs": [],
   "source": [
    "length = 55\n",
    "result = np.zeros((length, 2))\n",
    "index = 0\n",
    "for i in range(0, length):\n",
    "    result[index][0] = 5.0 + index / 2.0\n",
    "    result[index][1] = speed_to_PWM(result[index][0])\n",
    "    index += 1"
   ]
  },
  {
   "cell_type": "code",
   "execution_count": 54,
   "metadata": {},
   "outputs": [
    {
     "data": {
      "text/plain": [
       "array([[ 5.       ,  0.1744576],\n",
       "       [ 5.5      ,  0.1897076],\n",
       "       [ 6.       ,  0.2049576],\n",
       "       [ 6.5      ,  0.2202076],\n",
       "       [ 7.       ,  0.2354576],\n",
       "       [ 7.5      ,  0.2507076],\n",
       "       [ 8.       ,  0.2659576],\n",
       "       [ 8.5      ,  0.2812076],\n",
       "       [ 9.       ,  0.2964576],\n",
       "       [ 9.5      ,  0.3117076],\n",
       "       [10.       ,  0.3269576],\n",
       "       [10.5      ,  0.3422076],\n",
       "       [11.       ,  0.3574576],\n",
       "       [11.5      ,  0.3727076],\n",
       "       [12.       ,  0.3879576],\n",
       "       [12.5      ,  0.4032076],\n",
       "       [13.       ,  0.4184576],\n",
       "       [13.5      ,  0.4337076],\n",
       "       [14.       ,  0.4489576],\n",
       "       [14.5      ,  0.4642076],\n",
       "       [15.       ,  0.4794576],\n",
       "       [15.5      ,  0.4947076],\n",
       "       [16.       ,  0.5099576],\n",
       "       [16.5      ,  0.5252076],\n",
       "       [17.       ,  0.5404576],\n",
       "       [17.5      ,  0.5557076],\n",
       "       [18.       ,  0.5709576],\n",
       "       [18.5      ,  0.5862076],\n",
       "       [19.       ,  0.6014576],\n",
       "       [19.5      ,  0.6167076],\n",
       "       [20.       ,  0.6319576],\n",
       "       [20.5      ,  0.6472076],\n",
       "       [21.       ,  0.6624576],\n",
       "       [21.5      ,  0.6777076],\n",
       "       [22.       ,  0.6929576],\n",
       "       [22.5      ,  0.7082076],\n",
       "       [23.       ,  0.7234576],\n",
       "       [23.5      ,  0.7387076],\n",
       "       [24.       ,  0.7539576],\n",
       "       [24.5      ,  0.7692076],\n",
       "       [25.       ,  0.7844576],\n",
       "       [25.5      ,  0.7997076],\n",
       "       [26.       ,  0.8149576],\n",
       "       [26.5      ,  0.8302076],\n",
       "       [27.       ,  0.8454576],\n",
       "       [27.5      ,  0.8607076],\n",
       "       [28.       ,  0.8759576],\n",
       "       [28.5      ,  0.8912076],\n",
       "       [29.       ,  0.9064576],\n",
       "       [29.5      ,  0.9217076],\n",
       "       [30.       ,  0.9369576],\n",
       "       [30.5      ,  0.9522076],\n",
       "       [31.       ,  0.9674576],\n",
       "       [31.5      ,  0.9827076],\n",
       "       [32.       ,  0.9979576]])"
      ]
     },
     "execution_count": 54,
     "metadata": {},
     "output_type": "execute_result"
    }
   ],
   "source": [
    "result"
   ]
  },
  {
   "cell_type": "code",
   "execution_count": null,
   "metadata": {},
   "outputs": [],
   "source": []
  }
 ],
 "metadata": {
  "kernelspec": {
   "display_name": "Python 3",
   "language": "python",
   "name": "python3"
  },
  "language_info": {
   "codemirror_mode": {
    "name": "ipython",
    "version": 3
   },
   "file_extension": ".py",
   "mimetype": "text/x-python",
   "name": "python",
   "nbconvert_exporter": "python",
   "pygments_lexer": "ipython3",
   "version": "3.6.8"
  }
 },
 "nbformat": 4,
 "nbformat_minor": 2
}

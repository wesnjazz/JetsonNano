{
 "cells": [
  {
   "cell_type": "code",
   "execution_count": 10,
   "metadata": {},
   "outputs": [
    {
     "name": "stdout",
     "output_type": "stream",
     "text": [
      "5\n"
     ]
    }
   ],
   "source": [
    "import threading\n",
    "from time import sleep\n",
    "print(threading.active_count())"
   ]
  },
  {
   "cell_type": "code",
   "execution_count": 11,
   "metadata": {},
   "outputs": [],
   "source": [
    "def list_threads():\n",
    "    print(\"number of threads: {}\".format(threading.active_count()))\n",
    "    print(threading.enumerate())"
   ]
  },
  {
   "cell_type": "code",
   "execution_count": 15,
   "metadata": {},
   "outputs": [
    {
     "name": "stdout",
     "output_type": "stream",
     "text": [
      "abcnumber of threads: 6\n",
      "[<_MainThread(MainThread, started 547628552208)>, <Thread(Thread-2, started daemon 547559191024)>, <Heartbeat(Thread-3, started daemon 547550798320)>, <HistorySavingThread(IPythonHistorySavingThread, started 547323105776)>, <ParentPollerUnix(Thread-1, started daemon 547314713072)>, <Thread(Thread-8, started 547286917616)>]\n",
      "\n",
      "number of threads: 5\n",
      "[<_MainThread(MainThread, started 547628552208)>, <Thread(Thread-2, started daemon 547559191024)>, <Heartbeat(Thread-3, started daemon 547550798320)>, <HistorySavingThread(IPythonHistorySavingThread, started 547323105776)>, <ParentPollerUnix(Thread-1, started daemon 547314713072)>]\n"
     ]
    }
   ],
   "source": [
    "def abc():\n",
    "    print(\"abc\")\n",
    "    sleep(1)\n",
    "    \n",
    "t = threading.Thread(target=abc).start()\n",
    "list_threads()\n",
    "sleep(2)\n",
    "list_threads()"
   ]
  },
  {
   "cell_type": "code",
   "execution_count": 13,
   "metadata": {},
   "outputs": [
    {
     "name": "stdout",
     "output_type": "stream",
     "text": [
      "number of threads: 5\n",
      "[<_MainThread(MainThread, started 547628552208)>, <Thread(Thread-2, started daemon 547559191024)>, <Heartbeat(Thread-3, started daemon 547550798320)>, <HistorySavingThread(IPythonHistorySavingThread, started 547323105776)>, <ParentPollerUnix(Thread-1, started daemon 547314713072)>]\n"
     ]
    }
   ],
   "source": [
    "list_threads()"
   ]
  },
  {
   "cell_type": "code",
   "execution_count": null,
   "metadata": {},
   "outputs": [],
   "source": []
  }
 ],
 "metadata": {
  "kernelspec": {
   "display_name": "Python 3",
   "language": "python",
   "name": "python3"
  },
  "language_info": {
   "codemirror_mode": {
    "name": "ipython",
    "version": 3
   },
   "file_extension": ".py",
   "mimetype": "text/x-python",
   "name": "python",
   "nbconvert_exporter": "python",
   "pygments_lexer": "ipython3",
   "version": "3.6.8"
  }
 },
 "nbformat": 4,
 "nbformat_minor": 2
}

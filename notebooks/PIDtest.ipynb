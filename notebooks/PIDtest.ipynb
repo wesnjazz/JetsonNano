{
 "cells": [
  {
   "cell_type": "code",
   "execution_count": null,
   "metadata": {},
   "outputs": [],
   "source": [
    "import serial\n",
    "import threading\n",
    "from jetbot import Robot\n",
    "from time import sleep"
   ]
  },
  {
   "cell_type": "code",
   "execution_count": null,
   "metadata": {},
   "outputs": [],
   "source": [
    "port = \"/dev/ttyACM0\"\n",
    "rate = 57600\n",
    "s1 = serial.Serial(port, rate)\n",
    "s1.reset_input_buffer()"
   ]
  },
  {
   "cell_type": "code",
   "execution_count": null,
   "metadata": {},
   "outputs": [],
   "source": [
    "def read_serial():\n",
    "    count = 0\n",
    "    while True:\n",
    "        line = s1.readline().decode('utf-8').split()\n",
    "#         print(\"read_serial count:{}  output:{}\".format(count, line))\n",
    "        return line"
   ]
  },
  {
   "cell_type": "code",
   "execution_count": null,
   "metadata": {},
   "outputs": [],
   "source": [
    "def print_line():\n",
    "    count = 0\n",
    "    while True:\n",
    "        count += 1\n",
    "#         print(\"before call\")\n",
    "        print(\"print_line count:{}  output:{}\".format(count, read_serial()))\n",
    "#         print(\"after call\")\n",
    "#         sleep(1)\n",
    "#         print(read_serial())"
   ]
  },
  {
   "cell_type": "code",
   "execution_count": null,
   "metadata": {},
   "outputs": [],
   "source": [
    "def main():\n",
    "#     t1 = threading.Thread(name=\"ZZZ\", target=read_serial)\n",
    "#     t1.start()\n",
    "    t2 = threading.Thread(name=\"XXX\", target=print_line)\n",
    "    t2.start()\n",
    "    robot = Robot()\n",
    "    robot.forward(0.3)\n",
    "    sleep(3)\n",
    "    robot.stop()\n",
    "#     robot.stop()\n",
    "#     print(\"Backwards...\")\n",
    "#     sleep(5)\n",
    "#     robot.backward(0.5)\n",
    "#     sleep(0.3)\n",
    "#     robot.stop()\n",
    "# #     print_line()\n",
    "#     print(\"**************\")\n",
    "    "
   ]
  },
  {
   "cell_type": "code",
   "execution_count": null,
   "metadata": {},
   "outputs": [],
   "source": [
    "main()"
   ]
  },
  {
   "cell_type": "code",
   "execution_count": null,
   "metadata": {},
   "outputs": [],
   "source": []
  }
 ],
 "metadata": {
  "kernelspec": {
   "display_name": "Python 3",
   "language": "python",
   "name": "python3"
  },
  "language_info": {
   "codemirror_mode": {
    "name": "ipython",
    "version": 3
   },
   "file_extension": ".py",
   "mimetype": "text/x-python",
   "name": "python",
   "nbconvert_exporter": "python",
   "pygments_lexer": "ipython3",
   "version": "3.6.8"
  }
 },
 "nbformat": 4,
 "nbformat_minor": 2
}
